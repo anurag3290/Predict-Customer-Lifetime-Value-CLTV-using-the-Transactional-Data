{
 "cells": [
  {
   "cell_type": "code",
   "execution_count": 1,
   "metadata": {},
   "outputs": [],
   "source": [
    "import pandas as pd\n",
    "import numpy as np\n",
    "import matplotlib.pyplot as plt\n",
    "import seaborn as sns\n",
    "from scipy.stats import norm\n",
    "from scipy import stats\n",
    "import datetime\n",
    "from sklearn.model_selection import train_test_split\n",
    "from sklearn.linear_model import LinearRegression\n",
    "from sklearn import metrics\n",
    "%matplotlib inline\n",
    "pd.set_option('display.max_columns', 300)"
   ]
  },
  {
   "cell_type": "code",
   "execution_count": 2,
   "metadata": {},
   "outputs": [
    {
     "data": {
      "text/html": [
       "<div>\n",
       "<style scoped>\n",
       "    .dataframe tbody tr th:only-of-type {\n",
       "        vertical-align: middle;\n",
       "    }\n",
       "\n",
       "    .dataframe tbody tr th {\n",
       "        vertical-align: top;\n",
       "    }\n",
       "\n",
       "    .dataframe thead th {\n",
       "        text-align: right;\n",
       "    }\n",
       "</style>\n",
       "<table border=\"1\" class=\"dataframe\">\n",
       "  <thead>\n",
       "    <tr style=\"text-align: right;\">\n",
       "      <th></th>\n",
       "      <th>Document No</th>\n",
       "      <th>Purchase Date</th>\n",
       "      <th>Quantity</th>\n",
       "      <th>Net Price</th>\n",
       "      <th>Customer ID</th>\n",
       "    </tr>\n",
       "  </thead>\n",
       "  <tbody>\n",
       "    <tr>\n",
       "      <th>0</th>\n",
       "      <td>13354517</td>\n",
       "      <td>00:00.0</td>\n",
       "      <td>1.0</td>\n",
       "      <td>1060000.0</td>\n",
       "      <td>1096771</td>\n",
       "    </tr>\n",
       "    <tr>\n",
       "      <th>1</th>\n",
       "      <td>13354517</td>\n",
       "      <td>00:00.0</td>\n",
       "      <td>2.0</td>\n",
       "      <td>1060000.0</td>\n",
       "      <td>1096771</td>\n",
       "    </tr>\n",
       "    <tr>\n",
       "      <th>2</th>\n",
       "      <td>13393126</td>\n",
       "      <td>00:00.0</td>\n",
       "      <td>3.0</td>\n",
       "      <td>1060000.0</td>\n",
       "      <td>1096771</td>\n",
       "    </tr>\n",
       "    <tr>\n",
       "      <th>3</th>\n",
       "      <td>12714963</td>\n",
       "      <td>00:00.0</td>\n",
       "      <td>500.0</td>\n",
       "      <td>8300.0</td>\n",
       "      <td>1102459</td>\n",
       "    </tr>\n",
       "    <tr>\n",
       "      <th>4</th>\n",
       "      <td>12720899</td>\n",
       "      <td>00:00.0</td>\n",
       "      <td>200.0</td>\n",
       "      <td>217.8</td>\n",
       "      <td>1102459</td>\n",
       "    </tr>\n",
       "  </tbody>\n",
       "</table>\n",
       "</div>"
      ],
      "text/plain": [
       "   Document No Purchase Date  Quantity  Net Price  Customer ID\n",
       "0     13354517       00:00.0       1.0  1060000.0      1096771\n",
       "1     13354517       00:00.0       2.0  1060000.0      1096771\n",
       "2     13393126       00:00.0       3.0  1060000.0      1096771\n",
       "3     12714963       00:00.0     500.0     8300.0      1102459\n",
       "4     12720899       00:00.0     200.0      217.8      1102459"
      ]
     },
     "execution_count": 2,
     "metadata": {},
     "output_type": "execute_result"
    }
   ],
   "source": [
    "df = pd.read_csv(\"~/Tuple Technologies/Transaction Data.csv\",encoding = \"big5hkscs\",index_col=False)\n",
    "df.head()"
   ]
  },
  {
   "cell_type": "code",
   "execution_count": 3,
   "metadata": {},
   "outputs": [
    {
     "data": {
      "text/html": [
       "<div>\n",
       "<style scoped>\n",
       "    .dataframe tbody tr th:only-of-type {\n",
       "        vertical-align: middle;\n",
       "    }\n",
       "\n",
       "    .dataframe tbody tr th {\n",
       "        vertical-align: top;\n",
       "    }\n",
       "\n",
       "    .dataframe thead th {\n",
       "        text-align: right;\n",
       "    }\n",
       "</style>\n",
       "<table border=\"1\" class=\"dataframe\">\n",
       "  <thead>\n",
       "    <tr style=\"text-align: right;\">\n",
       "      <th></th>\n",
       "      <th>Document No</th>\n",
       "      <th>Quantity</th>\n",
       "      <th>Net Price</th>\n",
       "      <th>Customer ID</th>\n",
       "    </tr>\n",
       "  </thead>\n",
       "  <tbody>\n",
       "    <tr>\n",
       "      <th>count</th>\n",
       "      <td>8.429600e+04</td>\n",
       "      <td>84296.000000</td>\n",
       "      <td>8.429600e+04</td>\n",
       "      <td>8.429600e+04</td>\n",
       "    </tr>\n",
       "    <tr>\n",
       "      <th>mean</th>\n",
       "      <td>1.318077e+07</td>\n",
       "      <td>11498.014576</td>\n",
       "      <td>2.476536e+05</td>\n",
       "      <td>1.099187e+06</td>\n",
       "    </tr>\n",
       "    <tr>\n",
       "      <th>std</th>\n",
       "      <td>8.389360e+05</td>\n",
       "      <td>27456.422326</td>\n",
       "      <td>1.642067e+07</td>\n",
       "      <td>2.333688e+04</td>\n",
       "    </tr>\n",
       "    <tr>\n",
       "      <th>min</th>\n",
       "      <td>1.252479e+07</td>\n",
       "      <td>-29000.000000</td>\n",
       "      <td>0.000000e+00</td>\n",
       "      <td>1.001871e+06</td>\n",
       "    </tr>\n",
       "    <tr>\n",
       "      <th>25%</th>\n",
       "      <td>1.281222e+07</td>\n",
       "      <td>500.000000</td>\n",
       "      <td>4.860000e+02</td>\n",
       "      <td>1.096801e+06</td>\n",
       "    </tr>\n",
       "    <tr>\n",
       "      <th>50%</th>\n",
       "      <td>1.308613e+07</td>\n",
       "      <td>2800.000000</td>\n",
       "      <td>6.460000e+02</td>\n",
       "      <td>1.097282e+06</td>\n",
       "    </tr>\n",
       "    <tr>\n",
       "      <th>75%</th>\n",
       "      <td>1.331700e+07</td>\n",
       "      <td>10000.000000</td>\n",
       "      <td>2.107750e+03</td>\n",
       "      <td>1.109282e+06</td>\n",
       "    </tr>\n",
       "    <tr>\n",
       "      <th>max</th>\n",
       "      <td>1.914171e+07</td>\n",
       "      <td>600000.000000</td>\n",
       "      <td>3.986675e+09</td>\n",
       "      <td>1.166404e+06</td>\n",
       "    </tr>\n",
       "  </tbody>\n",
       "</table>\n",
       "</div>"
      ],
      "text/plain": [
       "        Document No       Quantity     Net Price   Customer ID\n",
       "count  8.429600e+04   84296.000000  8.429600e+04  8.429600e+04\n",
       "mean   1.318077e+07   11498.014576  2.476536e+05  1.099187e+06\n",
       "std    8.389360e+05   27456.422326  1.642067e+07  2.333688e+04\n",
       "min    1.252479e+07  -29000.000000  0.000000e+00  1.001871e+06\n",
       "25%    1.281222e+07     500.000000  4.860000e+02  1.096801e+06\n",
       "50%    1.308613e+07    2800.000000  6.460000e+02  1.097282e+06\n",
       "75%    1.331700e+07   10000.000000  2.107750e+03  1.109282e+06\n",
       "max    1.914171e+07  600000.000000  3.986675e+09  1.166404e+06"
      ]
     },
     "execution_count": 3,
     "metadata": {},
     "output_type": "execute_result"
    }
   ],
   "source": [
    "df.describe()"
   ]
  },
  {
   "cell_type": "markdown",
   "metadata": {},
   "source": [
    "Analysing Date Column"
   ]
  },
  {
   "cell_type": "code",
   "execution_count": 4,
   "metadata": {},
   "outputs": [
    {
     "name": "stdout",
     "output_type": "stream",
     "text": [
      "00:00.0          84295\n",
      "10/05/16 0:00        1\n",
      "Name: Purchase Date, dtype: int64\n"
     ]
    }
   ],
   "source": [
    "print(df['Purchase Date'].value_counts())\n",
    "# There is no date mention in the data. Removing the date column\n",
    "df = df.drop(['Purchase Date'], axis = 1) "
   ]
  },
  {
   "cell_type": "code",
   "execution_count": 5,
   "metadata": {},
   "outputs": [
    {
     "data": {
      "text/plain": [
       "Document No    0\n",
       "Quantity       0\n",
       "Net Price      0\n",
       "Customer ID    0\n",
       "dtype: int64"
      ]
     },
     "execution_count": 5,
     "metadata": {},
     "output_type": "execute_result"
    }
   ],
   "source": [
    "df.isnull().sum()\n",
    "#No null values"
   ]
  },
  {
   "cell_type": "code",
   "execution_count": 6,
   "metadata": {},
   "outputs": [
    {
     "data": {
      "image/png": "[encoded data removed]",
      "text/plain": [
       "<Figure size 1152x432 with 1 Axes>"
      ]
     },
     "metadata": {
      "needs_background": "light"
     },
     "output_type": "display_data"
    },
    {
     "data": {
      "image/png": "[encoded data removed]",
      "text/plain": [
       "<Figure size 432x288 with 1 Axes>"
      ]
     },
     "metadata": {
      "needs_background": "light"
     },
     "output_type": "display_data"
    }
   ],
   "source": [
    "#histogram and normal probability plot\n",
    "plt.figure(figsize=(16, 6))\n",
    "sns.distplot(df['Net Price'], fit=norm);\n",
    "fig = plt.figure()\n",
    "res = stats.probplot(df['Net Price'], plot=plt)\n"
   ]
  },
  {
   "cell_type": "code",
   "execution_count": 7,
   "metadata": {},
   "outputs": [
    {
     "data": {
      "image/png": "[encoded data removed]",
      "text/plain": [
       "<Figure size 1152x432 with 1 Axes>"
      ]
     },
     "metadata": {
      "needs_background": "light"
     },
     "output_type": "display_data"
    },
    {
     "data": {
      "image/png": "[encoded data removed]",
      "text/plain": [
       "<Figure size 432x288 with 1 Axes>"
      ]
     },
     "metadata": {
      "needs_background": "light"
     },
     "output_type": "display_data"
    }
   ],
   "source": [
    "#histogram and normal probability plot\n",
    "plt.figure(figsize=(16, 6))\n",
    "sns.distplot(df['Quantity'], fit=norm);\n",
    "fig = plt.figure()\n",
    "res = stats.probplot(df['Quantity'], plot=plt)"
   ]
  },
  {
   "cell_type": "code",
   "execution_count": 8,
   "metadata": {},
   "outputs": [],
   "source": [
    "# Analysing Customers and plotting top 10 customers"
   ]
  },
  {
   "cell_type": "code",
   "execution_count": 9,
   "metadata": {},
   "outputs": [
    {
     "name": "stdout",
     "output_type": "stream",
     "text": [
      "1109282    21916\n",
      "1096801    10839\n",
      "1097282    10476\n",
      "1112058     4058\n",
      "1096780     3272\n",
      "1096802     3056\n",
      "1116495     2239\n",
      "1112236     1189\n",
      "1107239     1064\n",
      "1147682      811\n",
      "1046103      678\n",
      "1045800      666\n",
      "1061111      640\n",
      "1126501      626\n",
      "1129250      625\n",
      "1046690      594\n",
      "1058163      565\n",
      "1126242      507\n",
      "1106190      445\n",
      "1050057      380\n",
      "1058031      360\n",
      "1046093      334\n",
      "1049174      312\n",
      "1088974      287\n",
      "1052901      277\n",
      "1047601      272\n",
      "1078039      270\n",
      "1046656      270\n",
      "1101461      259\n",
      "1048350      259\n",
      "           ...  \n",
      "1128903        1\n",
      "1166105        1\n",
      "1155988        1\n",
      "1111934        1\n",
      "1124420        1\n",
      "1162262        1\n",
      "1158740        1\n",
      "1114684        1\n",
      "1104135        1\n",
      "1143607        1\n",
      "1164898        1\n",
      "1139701        1\n",
      "1053787        1\n",
      "1068688        1\n",
      "1162926        1\n",
      "1161261        1\n",
      "1086344        1\n",
      "1064157        1\n",
      "1152296        1\n",
      "1093583        1\n",
      "1112323        1\n",
      "1128508        1\n",
      "1129020        1\n",
      "1063516        1\n",
      "1143413        1\n",
      "1143733        1\n",
      "1117178        1\n",
      "1125630        1\n",
      "1058079        1\n",
      "1052738        1\n",
      "Name: Customer ID, Length: 1032, dtype: int64\n"
     ]
    },
    {
     "data": {
      "text/plain": [
       "<matplotlib.axes._subplots.AxesSubplot at 0x7f29d13f9b70>"
      ]
     },
     "execution_count": 9,
     "metadata": {},
     "output_type": "execute_result"
    },
    {
     "data": {
      "image/png": "[encoded data removed]",
      "text/plain": [
       "<Figure size 432x288 with 1 Axes>"
      ]
     },
     "metadata": {
      "needs_background": "light"
     },
     "output_type": "display_data"
    }
   ],
   "source": [
    "print(df['Customer ID'].value_counts())\n",
    "df['Customer ID'].value_counts()[:10].plot(kind='bar')"
   ]
  },
  {
   "cell_type": "code",
   "execution_count": 10,
   "metadata": {},
   "outputs": [
    {
     "data": {
      "text/html": [
       "<div>\n",
       "<style scoped>\n",
       "    .dataframe tbody tr th:only-of-type {\n",
       "        vertical-align: middle;\n",
       "    }\n",
       "\n",
       "    .dataframe tbody tr th {\n",
       "        vertical-align: top;\n",
       "    }\n",
       "\n",
       "    .dataframe thead th {\n",
       "        text-align: right;\n",
       "    }\n",
       "</style>\n",
       "<table border=\"1\" class=\"dataframe\">\n",
       "  <thead>\n",
       "    <tr style=\"text-align: right;\">\n",
       "      <th></th>\n",
       "      <th>Document No</th>\n",
       "      <th>Quantity</th>\n",
       "      <th>Net Price</th>\n",
       "      <th>Customer ID</th>\n",
       "      <th>Total Purchase</th>\n",
       "    </tr>\n",
       "  </thead>\n",
       "  <tbody>\n",
       "    <tr>\n",
       "      <th>0</th>\n",
       "      <td>13354517</td>\n",
       "      <td>1.0</td>\n",
       "      <td>1060000.0</td>\n",
       "      <td>1096771</td>\n",
       "      <td>1060000.0</td>\n",
       "    </tr>\n",
       "    <tr>\n",
       "      <th>1</th>\n",
       "      <td>13354517</td>\n",
       "      <td>2.0</td>\n",
       "      <td>1060000.0</td>\n",
       "      <td>1096771</td>\n",
       "      <td>2120000.0</td>\n",
       "    </tr>\n",
       "    <tr>\n",
       "      <th>2</th>\n",
       "      <td>13393126</td>\n",
       "      <td>3.0</td>\n",
       "      <td>1060000.0</td>\n",
       "      <td>1096771</td>\n",
       "      <td>3180000.0</td>\n",
       "    </tr>\n",
       "    <tr>\n",
       "      <th>3</th>\n",
       "      <td>12714963</td>\n",
       "      <td>500.0</td>\n",
       "      <td>8300.0</td>\n",
       "      <td>1102459</td>\n",
       "      <td>4150000.0</td>\n",
       "    </tr>\n",
       "    <tr>\n",
       "      <th>4</th>\n",
       "      <td>12720899</td>\n",
       "      <td>200.0</td>\n",
       "      <td>217.8</td>\n",
       "      <td>1102459</td>\n",
       "      <td>43560.0</td>\n",
       "    </tr>\n",
       "  </tbody>\n",
       "</table>\n",
       "</div>"
      ],
      "text/plain": [
       "   Document No  Quantity  Net Price  Customer ID  Total Purchase\n",
       "0     13354517       1.0  1060000.0      1096771       1060000.0\n",
       "1     13354517       2.0  1060000.0      1096771       2120000.0\n",
       "2     13393126       3.0  1060000.0      1096771       3180000.0\n",
       "3     12714963     500.0     8300.0      1102459       4150000.0\n",
       "4     12720899     200.0      217.8      1102459         43560.0"
      ]
     },
     "execution_count": 10,
     "metadata": {},
     "output_type": "execute_result"
    }
   ],
   "source": [
    "#Calulate total purchase\n",
    "df['Total Purchase'] = df['Quantity'] * df['Net Price']\n",
    "df.head()"
   ]
  },
  {
   "cell_type": "code",
   "execution_count": 11,
   "metadata": {},
   "outputs": [
    {
     "data": {
      "text/html": [
       "<div>\n",
       "<style scoped>\n",
       "    .dataframe tbody tr th:only-of-type {\n",
       "        vertical-align: middle;\n",
       "    }\n",
       "\n",
       "    .dataframe tbody tr th {\n",
       "        vertical-align: top;\n",
       "    }\n",
       "\n",
       "    .dataframe thead th {\n",
       "        text-align: right;\n",
       "    }\n",
       "</style>\n",
       "<table border=\"1\" class=\"dataframe\">\n",
       "  <thead>\n",
       "    <tr style=\"text-align: right;\">\n",
       "      <th></th>\n",
       "      <th>Document No</th>\n",
       "      <th>Quantity</th>\n",
       "      <th>Total Purchase</th>\n",
       "    </tr>\n",
       "    <tr>\n",
       "      <th>Customer ID</th>\n",
       "      <th></th>\n",
       "      <th></th>\n",
       "      <th></th>\n",
       "    </tr>\n",
       "  </thead>\n",
       "  <tbody>\n",
       "    <tr>\n",
       "      <th>1001871</th>\n",
       "      <td>2</td>\n",
       "      <td>2000.0</td>\n",
       "      <td>5.211000e+07</td>\n",
       "    </tr>\n",
       "    <tr>\n",
       "      <th>1001877</th>\n",
       "      <td>57</td>\n",
       "      <td>37315.0</td>\n",
       "      <td>4.117026e+08</td>\n",
       "    </tr>\n",
       "    <tr>\n",
       "      <th>1010699</th>\n",
       "      <td>98</td>\n",
       "      <td>39905.0</td>\n",
       "      <td>6.794535e+09</td>\n",
       "    </tr>\n",
       "    <tr>\n",
       "      <th>1010728</th>\n",
       "      <td>87</td>\n",
       "      <td>60444.0</td>\n",
       "      <td>2.273677e+09</td>\n",
       "    </tr>\n",
       "    <tr>\n",
       "      <th>1016410</th>\n",
       "      <td>82</td>\n",
       "      <td>66860.0</td>\n",
       "      <td>3.252444e+08</td>\n",
       "    </tr>\n",
       "  </tbody>\n",
       "</table>\n",
       "</div>"
      ],
      "text/plain": [
       "             Document No  Quantity  Total Purchase\n",
       "Customer ID                                       \n",
       "1001871                2    2000.0    5.211000e+07\n",
       "1001877               57   37315.0    4.117026e+08\n",
       "1010699               98   39905.0    6.794535e+09\n",
       "1010728               87   60444.0    2.273677e+09\n",
       "1016410               82   66860.0    3.252444e+08"
      ]
     },
     "execution_count": 11,
     "metadata": {},
     "output_type": "execute_result"
    }
   ],
   "source": [
    "df_group=df.groupby('Customer ID').agg({'Document No': lambda x: len(x),\n",
    "                                        'Quantity': lambda x: x.sum(),\n",
    "                                        'Total Purchase': lambda x: x.sum()})\n",
    "df_group.head()"
   ]
  },
  {
   "cell_type": "markdown",
   "metadata": {},
   "source": [
    "#  CLTV = (Customer Value/Churn Rate) x Profit margin.\n",
    " \n",
    " Customer Value = Average Order Value * Purchase Frequency\n"
   ]
  },
  {
   "cell_type": "markdown",
   "metadata": {},
   "source": [
    "Calculate Average Order Value"
   ]
  },
  {
   "cell_type": "code",
   "execution_count": 12,
   "metadata": {},
   "outputs": [
    {
     "data": {
      "text/html": [
       "<div>\n",
       "<style scoped>\n",
       "    .dataframe tbody tr th:only-of-type {\n",
       "        vertical-align: middle;\n",
       "    }\n",
       "\n",
       "    .dataframe tbody tr th {\n",
       "        vertical-align: top;\n",
       "    }\n",
       "\n",
       "    .dataframe thead th {\n",
       "        text-align: right;\n",
       "    }\n",
       "</style>\n",
       "<table border=\"1\" class=\"dataframe\">\n",
       "  <thead>\n",
       "    <tr style=\"text-align: right;\">\n",
       "      <th></th>\n",
       "      <th>Document No</th>\n",
       "      <th>Quantity</th>\n",
       "      <th>Total Purchase</th>\n",
       "      <th>avg_order_value</th>\n",
       "    </tr>\n",
       "    <tr>\n",
       "      <th>Customer ID</th>\n",
       "      <th></th>\n",
       "      <th></th>\n",
       "      <th></th>\n",
       "      <th></th>\n",
       "    </tr>\n",
       "  </thead>\n",
       "  <tbody>\n",
       "    <tr>\n",
       "      <th>1001871</th>\n",
       "      <td>2</td>\n",
       "      <td>2000.0</td>\n",
       "      <td>5.211000e+07</td>\n",
       "      <td>2.605500e+07</td>\n",
       "    </tr>\n",
       "    <tr>\n",
       "      <th>1001877</th>\n",
       "      <td>57</td>\n",
       "      <td>37315.0</td>\n",
       "      <td>4.117026e+08</td>\n",
       "      <td>7.222853e+06</td>\n",
       "    </tr>\n",
       "    <tr>\n",
       "      <th>1010699</th>\n",
       "      <td>98</td>\n",
       "      <td>39905.0</td>\n",
       "      <td>6.794535e+09</td>\n",
       "      <td>6.933199e+07</td>\n",
       "    </tr>\n",
       "    <tr>\n",
       "      <th>1010728</th>\n",
       "      <td>87</td>\n",
       "      <td>60444.0</td>\n",
       "      <td>2.273677e+09</td>\n",
       "      <td>2.613422e+07</td>\n",
       "    </tr>\n",
       "    <tr>\n",
       "      <th>1016410</th>\n",
       "      <td>82</td>\n",
       "      <td>66860.0</td>\n",
       "      <td>3.252444e+08</td>\n",
       "      <td>3.966395e+06</td>\n",
       "    </tr>\n",
       "  </tbody>\n",
       "</table>\n",
       "</div>"
      ],
      "text/plain": [
       "             Document No  Quantity  Total Purchase  avg_order_value\n",
       "Customer ID                                                        \n",
       "1001871                2    2000.0    5.211000e+07     2.605500e+07\n",
       "1001877               57   37315.0    4.117026e+08     7.222853e+06\n",
       "1010699               98   39905.0    6.794535e+09     6.933199e+07\n",
       "1010728               87   60444.0    2.273677e+09     2.613422e+07\n",
       "1016410               82   66860.0    3.252444e+08     3.966395e+06"
      ]
     },
     "execution_count": 12,
     "metadata": {},
     "output_type": "execute_result"
    }
   ],
   "source": [
    "df_group['avg_order_value']=df_group['Total Purchase']/df_group['Document No']\n",
    "df_group.head()"
   ]
  },
  {
   "cell_type": "markdown",
   "metadata": {},
   "source": [
    "Calculate Purchase Frequency\n"
   ]
  },
  {
   "cell_type": "code",
   "execution_count": 13,
   "metadata": {},
   "outputs": [],
   "source": [
    "purchase_frequency=sum(df_group['Document No'])/df_group.shape[0]"
   ]
  },
  {
   "cell_type": "markdown",
   "metadata": {},
   "source": [
    "Calculate Repeat Rate and Churn Rate"
   ]
  },
  {
   "cell_type": "code",
   "execution_count": 14,
   "metadata": {},
   "outputs": [
    {
     "data": {
      "text/plain": [
       "(81.68217054263566, 0.7868217054263565, 0.21317829457364346)"
      ]
     },
     "execution_count": 14,
     "metadata": {},
     "output_type": "execute_result"
    }
   ],
   "source": [
    "repeat_rate=df_group[df_group['Document No'] > 1].shape[0]/df_group.shape[0]\n",
    "churn_rate=1-repeat_rate\n",
    "purchase_frequency,repeat_rate,churn_rate"
   ]
  },
  {
   "cell_type": "markdown",
   "metadata": {},
   "source": [
    "Calculating Profit Margin assuming 5% profit on the total sale."
   ]
  },
  {
   "cell_type": "code",
   "execution_count": 15,
   "metadata": {},
   "outputs": [
    {
     "data": {
      "text/html": [
       "<div>\n",
       "<style scoped>\n",
       "    .dataframe tbody tr th:only-of-type {\n",
       "        vertical-align: middle;\n",
       "    }\n",
       "\n",
       "    .dataframe tbody tr th {\n",
       "        vertical-align: top;\n",
       "    }\n",
       "\n",
       "    .dataframe thead th {\n",
       "        text-align: right;\n",
       "    }\n",
       "</style>\n",
       "<table border=\"1\" class=\"dataframe\">\n",
       "  <thead>\n",
       "    <tr style=\"text-align: right;\">\n",
       "      <th></th>\n",
       "      <th>Document No</th>\n",
       "      <th>Quantity</th>\n",
       "      <th>Total Purchase</th>\n",
       "      <th>avg_order_value</th>\n",
       "      <th>profit_margin</th>\n",
       "    </tr>\n",
       "    <tr>\n",
       "      <th>Customer ID</th>\n",
       "      <th></th>\n",
       "      <th></th>\n",
       "      <th></th>\n",
       "      <th></th>\n",
       "      <th></th>\n",
       "    </tr>\n",
       "  </thead>\n",
       "  <tbody>\n",
       "    <tr>\n",
       "      <th>1001871</th>\n",
       "      <td>2</td>\n",
       "      <td>2000.0</td>\n",
       "      <td>5.211000e+07</td>\n",
       "      <td>2.605500e+07</td>\n",
       "      <td>2.605500e+06</td>\n",
       "    </tr>\n",
       "    <tr>\n",
       "      <th>1001877</th>\n",
       "      <td>57</td>\n",
       "      <td>37315.0</td>\n",
       "      <td>4.117026e+08</td>\n",
       "      <td>7.222853e+06</td>\n",
       "      <td>2.058513e+07</td>\n",
       "    </tr>\n",
       "    <tr>\n",
       "      <th>1010699</th>\n",
       "      <td>98</td>\n",
       "      <td>39905.0</td>\n",
       "      <td>6.794535e+09</td>\n",
       "      <td>6.933199e+07</td>\n",
       "      <td>3.397268e+08</td>\n",
       "    </tr>\n",
       "    <tr>\n",
       "      <th>1010728</th>\n",
       "      <td>87</td>\n",
       "      <td>60444.0</td>\n",
       "      <td>2.273677e+09</td>\n",
       "      <td>2.613422e+07</td>\n",
       "      <td>1.136839e+08</td>\n",
       "    </tr>\n",
       "    <tr>\n",
       "      <th>1016410</th>\n",
       "      <td>82</td>\n",
       "      <td>66860.0</td>\n",
       "      <td>3.252444e+08</td>\n",
       "      <td>3.966395e+06</td>\n",
       "      <td>1.626222e+07</td>\n",
       "    </tr>\n",
       "  </tbody>\n",
       "</table>\n",
       "</div>"
      ],
      "text/plain": [
       "             Document No  Quantity  Total Purchase  avg_order_value  \\\n",
       "Customer ID                                                           \n",
       "1001871                2    2000.0    5.211000e+07     2.605500e+07   \n",
       "1001877               57   37315.0    4.117026e+08     7.222853e+06   \n",
       "1010699               98   39905.0    6.794535e+09     6.933199e+07   \n",
       "1010728               87   60444.0    2.273677e+09     2.613422e+07   \n",
       "1016410               82   66860.0    3.252444e+08     3.966395e+06   \n",
       "\n",
       "             profit_margin  \n",
       "Customer ID                 \n",
       "1001871       2.605500e+06  \n",
       "1001877       2.058513e+07  \n",
       "1010699       3.397268e+08  \n",
       "1010728       1.136839e+08  \n",
       "1016410       1.626222e+07  "
      ]
     },
     "execution_count": 15,
     "metadata": {},
     "output_type": "execute_result"
    }
   ],
   "source": [
    "df_group['profit_margin']=df_group['Total Purchase']*0.05\n",
    "df_group.head()"
   ]
  },
  {
   "cell_type": "markdown",
   "metadata": {},
   "source": [
    "Calcualte Customer Lifetime Value"
   ]
  },
  {
   "cell_type": "code",
   "execution_count": 16,
   "metadata": {},
   "outputs": [],
   "source": [
    "df_group['cust_value']=(df_group['avg_order_value']*purchase_frequency)/churn_rate"
   ]
  },
  {
   "cell_type": "code",
   "execution_count": 17,
   "metadata": {},
   "outputs": [
    {
     "data": {
      "text/html": [
       "<div>\n",
       "<style scoped>\n",
       "    .dataframe tbody tr th:only-of-type {\n",
       "        vertical-align: middle;\n",
       "    }\n",
       "\n",
       "    .dataframe tbody tr th {\n",
       "        vertical-align: top;\n",
       "    }\n",
       "\n",
       "    .dataframe thead th {\n",
       "        text-align: right;\n",
       "    }\n",
       "</style>\n",
       "<table border=\"1\" class=\"dataframe\">\n",
       "  <thead>\n",
       "    <tr style=\"text-align: right;\">\n",
       "      <th></th>\n",
       "      <th>Document No</th>\n",
       "      <th>Quantity</th>\n",
       "      <th>Total Purchase</th>\n",
       "      <th>avg_order_value</th>\n",
       "      <th>profit_margin</th>\n",
       "      <th>cust_value</th>\n",
       "      <th>cust_lifetime_value</th>\n",
       "    </tr>\n",
       "    <tr>\n",
       "      <th>Customer ID</th>\n",
       "      <th></th>\n",
       "      <th></th>\n",
       "      <th></th>\n",
       "      <th></th>\n",
       "      <th></th>\n",
       "      <th></th>\n",
       "      <th></th>\n",
       "    </tr>\n",
       "  </thead>\n",
       "  <tbody>\n",
       "    <tr>\n",
       "      <th>1001871</th>\n",
       "      <td>2</td>\n",
       "      <td>2000.0</td>\n",
       "      <td>5.211000e+07</td>\n",
       "      <td>2.605500e+07</td>\n",
       "      <td>2.605500e+06</td>\n",
       "      <td>9.983329e+09</td>\n",
       "      <td>2.601156e+16</td>\n",
       "    </tr>\n",
       "    <tr>\n",
       "      <th>1001877</th>\n",
       "      <td>57</td>\n",
       "      <td>37315.0</td>\n",
       "      <td>4.117026e+08</td>\n",
       "      <td>7.222853e+06</td>\n",
       "      <td>2.058513e+07</td>\n",
       "      <td>2.767535e+09</td>\n",
       "      <td>5.697007e+16</td>\n",
       "    </tr>\n",
       "    <tr>\n",
       "      <th>1010699</th>\n",
       "      <td>98</td>\n",
       "      <td>39905.0</td>\n",
       "      <td>6.794535e+09</td>\n",
       "      <td>6.933199e+07</td>\n",
       "      <td>3.397268e+08</td>\n",
       "      <td>2.656550e+10</td>\n",
       "      <td>9.025011e+18</td>\n",
       "    </tr>\n",
       "    <tr>\n",
       "      <th>1010728</th>\n",
       "      <td>87</td>\n",
       "      <td>60444.0</td>\n",
       "      <td>2.273677e+09</td>\n",
       "      <td>2.613422e+07</td>\n",
       "      <td>1.136839e+08</td>\n",
       "      <td>1.001368e+10</td>\n",
       "      <td>1.138394e+18</td>\n",
       "    </tr>\n",
       "    <tr>\n",
       "      <th>1016410</th>\n",
       "      <td>82</td>\n",
       "      <td>66860.0</td>\n",
       "      <td>3.252444e+08</td>\n",
       "      <td>3.966395e+06</td>\n",
       "      <td>1.626222e+07</td>\n",
       "      <td>1.519778e+09</td>\n",
       "      <td>2.471497e+16</td>\n",
       "    </tr>\n",
       "  </tbody>\n",
       "</table>\n",
       "</div>"
      ],
      "text/plain": [
       "             Document No  Quantity  Total Purchase  avg_order_value  \\\n",
       "Customer ID                                                           \n",
       "1001871                2    2000.0    5.211000e+07     2.605500e+07   \n",
       "1001877               57   37315.0    4.117026e+08     7.222853e+06   \n",
       "1010699               98   39905.0    6.794535e+09     6.933199e+07   \n",
       "1010728               87   60444.0    2.273677e+09     2.613422e+07   \n",
       "1016410               82   66860.0    3.252444e+08     3.966395e+06   \n",
       "\n",
       "             profit_margin    cust_value  cust_lifetime_value  \n",
       "Customer ID                                                    \n",
       "1001871       2.605500e+06  9.983329e+09         2.601156e+16  \n",
       "1001877       2.058513e+07  2.767535e+09         5.697007e+16  \n",
       "1010699       3.397268e+08  2.656550e+10         9.025011e+18  \n",
       "1010728       1.136839e+08  1.001368e+10         1.138394e+18  \n",
       "1016410       1.626222e+07  1.519778e+09         2.471497e+16  "
      ]
     },
     "execution_count": 17,
     "metadata": {},
     "output_type": "execute_result"
    }
   ],
   "source": [
    "df_group['cust_lifetime_value']=df_group['cust_value']*df_group['profit_margin']\n",
    "df_group.head()"
   ]
  },
  {
   "cell_type": "markdown",
   "metadata": {},
   "source": [
    "# Prediction Model for CLV"
   ]
  },
  {
   "cell_type": "code",
   "execution_count": 18,
   "metadata": {},
   "outputs": [
    {
     "name": "stdout",
     "output_type": "stream",
     "text": [
      "   Document No  Quantity  Net Price  Customer ID  Total Purchase\n",
      "0     13354517       1.0  1060000.0      1096771       1060000.0\n",
      "1     13354517       2.0  1060000.0      1096771       2120000.0\n",
      "2     13393126       3.0  1060000.0      1096771       3180000.0\n",
      "3     12714963     500.0     8300.0      1102459       4150000.0\n",
      "4     12720899     200.0      217.8      1102459         43560.0\n"
     ]
    },
    {
     "data": {
      "text/plain": [
       "count    8.429600e+04\n",
       "mean     1.318077e+07\n",
       "std      8.389360e+05\n",
       "min      1.252479e+07\n",
       "25%      1.281222e+07\n",
       "50%      1.308613e+07\n",
       "75%      1.331700e+07\n",
       "max      1.914171e+07\n",
       "Name: Document No, dtype: float64"
      ]
     },
     "execution_count": 18,
     "metadata": {},
     "output_type": "execute_result"
    }
   ],
   "source": [
    "print(df.head())\n",
    "df['Document No'].describe()"
   ]
  },
  {
   "cell_type": "markdown",
   "metadata": {},
   "source": [
    "As there is No Date column, we can create epoch using 'Document No' as the time scale and segement the dataframe on basis of 20 equal intervals"
   ]
  },
  {
   "cell_type": "code",
   "execution_count": 19,
   "metadata": {},
   "outputs": [
    {
     "data": {
      "text/plain": [
       "[12524700,\n",
       " 12872968,\n",
       " 13221236,\n",
       " 13569505,\n",
       " 13917773,\n",
       " 14266042,\n",
       " 14614310,\n",
       " 14962578,\n",
       " 15310847,\n",
       " 15659115,\n",
       " 16007384,\n",
       " 16355652,\n",
       " 16703921,\n",
       " 17052189,\n",
       " 17400457,\n",
       " 17748726,\n",
       " 18096994,\n",
       " 18445263,\n",
       " 18793531,\n",
       " 19141800]"
      ]
     },
     "execution_count": 19,
     "metadata": {},
     "output_type": "execute_result"
    }
   ],
   "source": [
    "interval = list(np.linspace(12524700,19141800,20).astype(int))\n",
    "interval"
   ]
  },
  {
   "cell_type": "code",
   "execution_count": 20,
   "metadata": {},
   "outputs": [
    {
     "name": "stdout",
     "output_type": "stream",
     "text": [
      "1     26549\n",
      "2     26727\n",
      "3     28611\n",
      "14     1670\n",
      "19      739\n",
      "Name: Epoch, dtype: int64\n"
     ]
    },
    {
     "data": {
      "image/png": "[encoded data removed]",
      "text/plain": [
       "<Figure size 432x288 with 1 Axes>"
      ]
     },
     "metadata": {
      "needs_background": "light"
     },
     "output_type": "display_data"
    }
   ],
   "source": [
    "# Convert target variable to categorical like low,medium,high price and analyse\n",
    "df['Epoch'] = 0\n",
    "df.loc[df['Document No'] <= interval[0],'Epoch'] = 0\n",
    "df.loc[(df['Document No'] > interval[0]) & (df['Document No'] <=interval[1]),'Epoch'] = 1\n",
    "df.loc[(df['Document No'] > interval[1]) & (df['Document No'] <=interval[2]),'Epoch'] = 2\n",
    "df.loc[(df['Document No'] > interval[2]) & (df['Document No'] <=interval[3]),'Epoch'] = 3\n",
    "df.loc[(df['Document No'] > interval[3]) & (df['Document No'] <=interval[4]),'Epoch'] = 4\n",
    "df.loc[(df['Document No'] > interval[4]) & (df['Document No'] <=interval[5]),'Epoch'] = 5\n",
    "df.loc[(df['Document No'] > interval[5]) & (df['Document No'] <=interval[6]),'Epoch'] = 6\n",
    "df.loc[(df['Document No'] > interval[6]) & (df['Document No'] <=interval[7]),'Epoch'] = 7\n",
    "df.loc[(df['Document No'] > interval[7]) & (df['Document No'] <=interval[8]),'Epoch'] = 8\n",
    "df.loc[(df['Document No'] > interval[8]) & (df['Document No'] <=interval[9]),'Epoch'] = 9\n",
    "df.loc[(df['Document No'] > interval[9]) & (df['Document No'] <=interval[10]),'Epoch'] = 10\n",
    "df.loc[(df['Document No'] > interval[10]) & (df['Document No'] <=interval[11]),'Epoch'] = 11\n",
    "df.loc[(df['Document No'] > interval[11]) & (df['Document No'] <=interval[12]),'Epoch'] = 12\n",
    "df.loc[(df['Document No'] > interval[12]) & (df['Document No'] <=interval[13]),'Epoch'] = 13\n",
    "df.loc[(df['Document No'] > interval[13]) & (df['Document No'] <=interval[14]),'Epoch'] = 14\n",
    "df.loc[(df['Document No'] > interval[14]) & (df['Document No'] <=interval[15]),'Epoch'] = 15\n",
    "df.loc[(df['Document No'] > interval[15]) & (df['Document No'] <=interval[16]),'Epoch'] = 16\n",
    "df.loc[(df['Document No'] > interval[16]) & (df['Document No'] <=interval[17]),'Epoch'] = 17\n",
    "df.loc[(df['Document No'] > interval[17]) & (df['Document No'] <=interval[18]),'Epoch'] = 18\n",
    "df.loc[(df['Document No'] > interval[18]) & (df['Document No'] <=interval[19]),'Epoch'] = 19\n",
    "df.loc[df['Document No']> interval[19],'Epoch'] = 20\n",
    "print(df['Epoch'].value_counts().sort_index())\n",
    "sns.countplot('Epoch',data=df)\n",
    "plt.show()"
   ]
  },
  {
   "cell_type": "code",
   "execution_count": 21,
   "metadata": {},
   "outputs": [
    {
     "data": {
      "text/html": [
       "<div>\n",
       "<style scoped>\n",
       "    .dataframe tbody tr th:only-of-type {\n",
       "        vertical-align: middle;\n",
       "    }\n",
       "\n",
       "    .dataframe tbody tr th {\n",
       "        vertical-align: top;\n",
       "    }\n",
       "\n",
       "    .dataframe thead th {\n",
       "        text-align: right;\n",
       "    }\n",
       "</style>\n",
       "<table border=\"1\" class=\"dataframe\">\n",
       "  <thead>\n",
       "    <tr style=\"text-align: right;\">\n",
       "      <th>Epoch</th>\n",
       "      <th>Customer ID</th>\n",
       "      <th>1</th>\n",
       "      <th>2</th>\n",
       "      <th>3</th>\n",
       "      <th>14</th>\n",
       "      <th>19</th>\n",
       "    </tr>\n",
       "  </thead>\n",
       "  <tbody>\n",
       "    <tr>\n",
       "      <th>0</th>\n",
       "      <td>1001871</td>\n",
       "      <td>0.000000e+00</td>\n",
       "      <td>0.0</td>\n",
       "      <td>5.211000e+07</td>\n",
       "      <td>0</td>\n",
       "      <td>0.0</td>\n",
       "    </tr>\n",
       "    <tr>\n",
       "      <th>1</th>\n",
       "      <td>1001877</td>\n",
       "      <td>3.285200e+05</td>\n",
       "      <td>18344600.0</td>\n",
       "      <td>3.930295e+08</td>\n",
       "      <td>0</td>\n",
       "      <td>0.0</td>\n",
       "    </tr>\n",
       "    <tr>\n",
       "      <th>2</th>\n",
       "      <td>1010699</td>\n",
       "      <td>5.819846e+09</td>\n",
       "      <td>133440500.0</td>\n",
       "      <td>8.412497e+08</td>\n",
       "      <td>0</td>\n",
       "      <td>-999.4</td>\n",
       "    </tr>\n",
       "    <tr>\n",
       "      <th>3</th>\n",
       "      <td>1010728</td>\n",
       "      <td>1.210000e+04</td>\n",
       "      <td>294500825.0</td>\n",
       "      <td>1.979164e+09</td>\n",
       "      <td>0</td>\n",
       "      <td>0.0</td>\n",
       "    </tr>\n",
       "    <tr>\n",
       "      <th>4</th>\n",
       "      <td>1016410</td>\n",
       "      <td>1.051648e+07</td>\n",
       "      <td>313877100.0</td>\n",
       "      <td>8.508000e+05</td>\n",
       "      <td>0</td>\n",
       "      <td>0.0</td>\n",
       "    </tr>\n",
       "  </tbody>\n",
       "</table>\n",
       "</div>"
      ],
      "text/plain": [
       "Epoch  Customer ID             1            2             3  14     19\n",
       "0          1001871  0.000000e+00          0.0  5.211000e+07   0    0.0\n",
       "1          1001877  3.285200e+05   18344600.0  3.930295e+08   0    0.0\n",
       "2          1010699  5.819846e+09  133440500.0  8.412497e+08   0 -999.4\n",
       "3          1010728  1.210000e+04  294500825.0  1.979164e+09   0    0.0\n",
       "4          1016410  1.051648e+07  313877100.0  8.508000e+05   0    0.0"
      ]
     },
     "execution_count": 21,
     "metadata": {},
     "output_type": "execute_result"
    }
   ],
   "source": [
    "sale=df.pivot_table(index=['Customer ID'],columns=['Epoch'],values='Total Purchase',aggfunc='sum',fill_value=0).reset_index()\n",
    "sale.head()"
   ]
  },
  {
   "cell_type": "code",
   "execution_count": 22,
   "metadata": {},
   "outputs": [
    {
     "data": {
      "text/html": [
       "<div>\n",
       "<style scoped>\n",
       "    .dataframe tbody tr th:only-of-type {\n",
       "        vertical-align: middle;\n",
       "    }\n",
       "\n",
       "    .dataframe tbody tr th {\n",
       "        vertical-align: top;\n",
       "    }\n",
       "\n",
       "    .dataframe thead th {\n",
       "        text-align: right;\n",
       "    }\n",
       "</style>\n",
       "<table border=\"1\" class=\"dataframe\">\n",
       "  <thead>\n",
       "    <tr style=\"text-align: right;\">\n",
       "      <th>Epoch</th>\n",
       "      <th>Customer ID</th>\n",
       "      <th>1</th>\n",
       "      <th>2</th>\n",
       "      <th>3</th>\n",
       "      <th>14</th>\n",
       "      <th>19</th>\n",
       "      <th>CLV</th>\n",
       "    </tr>\n",
       "  </thead>\n",
       "  <tbody>\n",
       "    <tr>\n",
       "      <th>0</th>\n",
       "      <td>1001871</td>\n",
       "      <td>0.000000e+00</td>\n",
       "      <td>0.0</td>\n",
       "      <td>5.211000e+07</td>\n",
       "      <td>0</td>\n",
       "      <td>0.0</td>\n",
       "      <td>5.211000e+07</td>\n",
       "    </tr>\n",
       "    <tr>\n",
       "      <th>1</th>\n",
       "      <td>1001877</td>\n",
       "      <td>3.285200e+05</td>\n",
       "      <td>18344600.0</td>\n",
       "      <td>3.930295e+08</td>\n",
       "      <td>0</td>\n",
       "      <td>0.0</td>\n",
       "      <td>4.113741e+08</td>\n",
       "    </tr>\n",
       "    <tr>\n",
       "      <th>2</th>\n",
       "      <td>1010699</td>\n",
       "      <td>5.819846e+09</td>\n",
       "      <td>133440500.0</td>\n",
       "      <td>8.412497e+08</td>\n",
       "      <td>0</td>\n",
       "      <td>-999.4</td>\n",
       "      <td>9.746892e+08</td>\n",
       "    </tr>\n",
       "    <tr>\n",
       "      <th>3</th>\n",
       "      <td>1010728</td>\n",
       "      <td>1.210000e+04</td>\n",
       "      <td>294500825.0</td>\n",
       "      <td>1.979164e+09</td>\n",
       "      <td>0</td>\n",
       "      <td>0.0</td>\n",
       "      <td>2.273665e+09</td>\n",
       "    </tr>\n",
       "    <tr>\n",
       "      <th>4</th>\n",
       "      <td>1016410</td>\n",
       "      <td>1.051648e+07</td>\n",
       "      <td>313877100.0</td>\n",
       "      <td>8.508000e+05</td>\n",
       "      <td>0</td>\n",
       "      <td>0.0</td>\n",
       "      <td>3.147279e+08</td>\n",
       "    </tr>\n",
       "  </tbody>\n",
       "</table>\n",
       "</div>"
      ],
      "text/plain": [
       "Epoch  Customer ID             1            2             3  14     19  \\\n",
       "0          1001871  0.000000e+00          0.0  5.211000e+07   0    0.0   \n",
       "1          1001877  3.285200e+05   18344600.0  3.930295e+08   0    0.0   \n",
       "2          1010699  5.819846e+09  133440500.0  8.412497e+08   0 -999.4   \n",
       "3          1010728  1.210000e+04  294500825.0  1.979164e+09   0    0.0   \n",
       "4          1016410  1.051648e+07  313877100.0  8.508000e+05   0    0.0   \n",
       "\n",
       "Epoch           CLV  \n",
       "0      5.211000e+07  \n",
       "1      4.113741e+08  \n",
       "2      9.746892e+08  \n",
       "3      2.273665e+09  \n",
       "4      3.147279e+08  "
      ]
     },
     "execution_count": 22,
     "metadata": {},
     "output_type": "execute_result"
    }
   ],
   "source": [
    "#summing epoch sales\n",
    "sale['CLV']=sale.iloc[:,2:].sum(axis=1)\n",
    "sale.head()"
   ]
  },
  {
   "cell_type": "code",
   "execution_count": 23,
   "metadata": {},
   "outputs": [],
   "source": [
    "#Selecting Feature\n",
    "X=sale[[1,2, 3,14,19]]\n",
    "y=sale[['CLV']]"
   ]
  },
  {
   "cell_type": "code",
   "execution_count": 24,
   "metadata": {},
   "outputs": [],
   "source": [
    "#split training set and test set\n",
    "X_train, X_test, y_train, y_test = train_test_split(X, y,random_state=0)"
   ]
  },
  {
   "cell_type": "code",
   "execution_count": 25,
   "metadata": {},
   "outputs": [
    {
     "data": {
      "text/plain": [
       "LinearRegression(copy_X=True, fit_intercept=True, n_jobs=None, normalize=False)"
      ]
     },
     "execution_count": 25,
     "metadata": {},
     "output_type": "execute_result"
    }
   ],
   "source": [
    "lr = LinearRegression()\n",
    "lr.fit(X_train, y_train)"
   ]
  },
  {
   "cell_type": "code",
   "execution_count": 26,
   "metadata": {},
   "outputs": [],
   "source": [
    "#predictions against the testing data\n",
    "y_pred = lr.predict(X_test)"
   ]
  },
  {
   "cell_type": "code",
   "execution_count": 27,
   "metadata": {},
   "outputs": [
    {
     "name": "stdout",
     "output_type": "stream",
     "text": [
      "[-1.43051147e-06]\n",
      "[[-1.74208867e-19  1.00000000e+00  1.00000000e+00  1.00000000e+00\n",
      "   1.00000000e+00]]\n"
     ]
    }
   ],
   "source": [
    "# intercept and coefficients\n",
    "print(lr.intercept_)\n",
    "print(lr.coef_)"
   ]
  },
  {
   "cell_type": "code",
   "execution_count": 28,
   "metadata": {},
   "outputs": [
    {
     "name": "stdout",
     "output_type": "stream",
     "text": [
      "R-Square: 1.0\n"
     ]
    }
   ],
   "source": [
    "#R-Square\n",
    "print(\"R-Square:\",metrics.r2_score(y_test, y_pred))\n"
   ]
  },
  {
   "cell_type": "code",
   "execution_count": 29,
   "metadata": {},
   "outputs": [
    {
     "name": "stdout",
     "output_type": "stream",
     "text": [
      "RMSE: 6.127699541101803e-05\n"
     ]
    }
   ],
   "source": [
    "#Root Mean Square Errror\n",
    "print(\"RMSE:\",np.sqrt(metrics.mean_squared_error(y_test, y_pred)))"
   ]
  }
 ],
 "metadata": {
  "kernelspec": {
   "display_name": "Python 3",
   "language": "python",
   "name": "python3"
  },
  "language_info": {
   "codemirror_mode": {
    "name": "ipython",
    "version": 3
   },
   "file_extension": ".py",
   "mimetype": "text/x-python",
   "name": "python",
   "nbconvert_exporter": "python",
   "pygments_lexer": "ipython3",
   "version": "3.7.3"
  }
 },
 "nbformat": 4,
 "nbformat_minor": 2
}
